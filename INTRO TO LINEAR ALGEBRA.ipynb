{
 "cells": [
  {
   "cell_type": "markdown",
   "id": "5585f3a3-4b29-4bbe-8047-452c49419684",
   "metadata": {},
   "source": [
    "### Wk9:DAY3 - INTRODUCTION TO LINEAR ALGEBRA"
   ]
  },
  {
   "cell_type": "markdown",
   "id": "f7ddf4c6-20ef-413a-8464-72db6d7e2093",
   "metadata": {},
   "source": [
    "Our linear Algebra journey starts with matrices.\n",
    "A matrix is a collection of numbers ordered in rows and columns.\n",
    "E.G\n",
    "[5 12 6\n",
    "-3 0 14]\n",
    "Each of the values is an ELEMENT of the matrix. Our matrix is a total of 6 elements. We normally denote a matrix with apital letter e.g A. Our matrix A has 2 rows and 3 columns.In linear Algebra, rows and columns are the dimentions of the matrix. A is a 2*3 matrix. Matrices seem similar to tables and spredsheets. Matrices are main characters in mathematical operations.\n",
    "\n",
    "Two matrices can be added, subtracted, multiplied, and divided. So linear Algebra is similar to Algebra in the types of operations they run, but defers from when and how these operations are implemented.\n",
    "\n",
    "A matrix can only contain numbers, symbols, or expressions. The later 2 are nothing more than a generalised representation of numbers. A collection of these 6 symbols B = [a b c \n",
    "                     d e f]\n",
    "show a difft 2*3 matrix.\n",
    "C has 4 elements and it's a 2*2 matrix; C=[a-x  b+5\n",
    "                                          d+e    e]\n",
    "These are not values but expressions.\n",
    "\n",
    "Size of a matrix:\n",
    "A matrix can be of any size.In the general case, we are talking about an m*n matrix. If A is an m*n matrix, it means it has m rows and n columns. aij is ith row and jth column. To fill in a matrix, you start from a11, a12, a13........a1n to finish the 1st row. In most programming languages, arrays start from 0 rather than 1."
   ]
  },
  {
   "cell_type": "code",
   "execution_count": null,
   "id": "672ee6b5-fb25-4181-8f00-34663f51af3d",
   "metadata": {},
   "outputs": [],
   "source": []
  },
  {
   "cell_type": "markdown",
   "id": "d3841d04-101d-47dc-93f3-b9702edc1533",
   "metadata": {},
   "source": [
    "#### Scalars and Vectors"
   ]
  },
  {
   "cell_type": "markdown",
   "id": "aa669bbb-12bf-4c98-bc31-71d0a54aaee5",
   "metadata": {},
   "source": [
    "Matrices are 2 dimentional objects as they have rows and columns (2D). \n",
    "A matrix with 1 row and 1 column [a11]. It contains a single element and it's called Scalars.\n",
    "All numbers we know from algebra are referred to as scalars in linear algebra.\n",
    "[15]; [1]; [2]; [-5]; are all scalars. \n",
    "\n",
    "Since scalars are objects with no dimensions, they have important properties we'll have to examine later on. \n",
    "\n",
    "Vectors:\n",
    "Vectors are also very common objects in linear algebra. They exist somewhere btw scalars and matrices as they have one dimention.\n",
    "\n",
    "Scalar[15]; Vector[5 -2 4] as a column. Matrix [5 12 6\n",
    "                                               -3 0 14]\n",
    "Vector is a 3*1 matrix. Its single dimention is the number of rows that it has.Since a scalar is basically a number, A vector is practically the simplest linear algebraic object.\n",
    "\n",
    "Given the many applications of vectors, they have the special name and are often examined as a seperate object.\n",
    "Moreover, it is more common to view a matrix as a collection of vectors rather than a vector as a special case of a matrix. Each column of a matrix is a vector.\n",
    "\n",
    "Generally, there are 2 types of vectors; column vectors and row vectors. Often we are interested in the number of elements a vector contains. We refer to that number as the length of a vector. [5 \n",
    "                                                6\n",
    "                                                4]\n",
    "The 1st vector has a length of 3, and the 2nd a length of 4 [3 4 5 8] . \n",
    "\n",
    "In the general case, a vectors length can be designated as m. So, a column vector will have dimentions m*1 and the row vector, 1*m.\n",
    "Regarding the notation, the elements of a vector x, will be x1, x2, ....xm.\n",
    "\n",
    "In summary, we have matrices that are 2 dimentions, m*n (2D). Vectors that have a single dimention m*1 (1D). And scalars that have no dimentions 1*1. (0D)."
   ]
  },
  {
   "cell_type": "markdown",
   "id": "c1c347a6-5547-4116-b308-c4d220fdafbe",
   "metadata": {},
   "source": [
    "#### Linear Algebra and Geometry"
   ]
  },
  {
   "cell_type": "markdown",
   "id": "661417ca-bebc-4e0b-8c7d-d455824be5dd",
   "metadata": {},
   "source": [
    "Mathematics works based on analogies. With linear algebra, that's extremely relevant. We said a scalar (x) has no dimentions(OD), what else has no dimensions? well, the geometrical idea of a point(.) (OD). A point is the simplest object in terms of geometry.It has no direction and no size. A scaler is like a point. \n",
    "\n",
    "Then we have vectors;\n",
    "\n",
    "a vector has one dimention(1D) m*1. \n",
    "\n",
    "It is like a line. H/ever, it has a direction. It can be oriented in many ways. We can plot the line on a 2 dimentional plain. H/ever, to get into 2D, we need smth else. The only way to get from a line to a plain is by crossing it with another line. So 2 dimentional space is defined by 2 lines. 2 lines mean 2 vectors. [x1, x2, ....xm]  [y1, y2.....ym] in vertical form. 2D lines are \\/ 2 arrows.\n",
    "\n",
    "In linear algebra, a matrix is a collection of vectors. D4, any 2 dimentional plain can be represented by a matrix(m*2) x1    y1\n",
    "                                                      x2    y2\n",
    "                                                      .      .\n",
    "                                                      .      . \n",
    "                                                      xm    ym\n",
    "\n",
    "Let's explore the 2 dimensional plain;\n",
    "\n",
    "If I want to represent a vector, say 2,5, it will be a long line from the origin of the plain to the point of position 2,5. The direction is always from the origin of the graph to the end point. The vector -2,-5 will be exactly the opposite of the 1st one. Each of the vectors has a direction determined by its values. [2 5]  [-2 -5].  [-2 3]. \n",
    "\n",
    "The 1st vector is [1 0]  and the 2nd, [0 1]. Taking the 2 vectors together, we can create a matrix. [1 0\n",
    "                         0 1]\n",
    "                         \n",
    "This matrix is made up of small portions of the 2 axis, x and y. Most important is if I remove everything else from the graph, this matrix will define the 2D plain we were looking at. Actually, every 2 vectors we take will define the 2 matrices we were looking at. \n",
    "\n",
    "Find online 3D vector plotter by academo.org You can specify each vector of interest and fiddle with the plot.\n"
   ]
  },
  {
   "cell_type": "code",
   "execution_count": null,
   "id": "d9dde3b0-a621-408b-a69f-acf06b8ac4a0",
   "metadata": {},
   "outputs": [],
   "source": []
  },
  {
   "cell_type": "markdown",
   "id": "811869d8-513d-45df-b4ba-702667011b5f",
   "metadata": {},
   "source": [
    "### Scalars, Vectors, and Matrices as Python Arrays"
   ]
  },
  {
   "cell_type": "markdown",
   "id": "eb8cb6f8-a928-4940-8234-1fed9668b7dc",
   "metadata": {},
   "source": [
    "#### How to code Matrix, Vectors, and Scalars"
   ]
  },
  {
   "cell_type": "markdown",
   "id": "2d4a46ca-a2ac-42a0-b0e4-277979161689",
   "metadata": {},
   "source": [
    "#### Import the relevant libraries"
   ]
  },
  {
   "cell_type": "markdown",
   "id": "eab3f62a-d4d2-4902-8b4f-02d3adcd5d3d",
   "metadata": {},
   "source": [
    "The simplest and most flexible way to work with scalars, vectors, and matrices in Python is by using array. Moreover, we'll use the numpy functionalities as they are optimised for such operations."
   ]
  },
  {
   "cell_type": "code",
   "execution_count": 14,
   "id": "8a3f6c94-f8ee-465f-b081-1e97497636d9",
   "metadata": {},
   "outputs": [],
   "source": [
    "import numpy as np"
   ]
  },
  {
   "cell_type": "markdown",
   "id": "96b33c8f-c7f3-4470-b453-0bf37210fc4d",
   "metadata": {},
   "source": [
    "#### Declaring Scalars, Vectors, and Matrices"
   ]
  },
  {
   "cell_type": "markdown",
   "id": "a445acb5-3c18-40dc-b9cc-0e9ae8749e72",
   "metadata": {},
   "source": [
    "#### scalars"
   ]
  },
  {
   "cell_type": "code",
   "execution_count": 15,
   "id": "45dcd292-7079-439d-9ada-a89906b8c631",
   "metadata": {},
   "outputs": [],
   "source": [
    "# Let's declare a scalar\n",
    "\n",
    "s = 5"
   ]
  },
  {
   "cell_type": "code",
   "execution_count": 16,
   "id": "93e740e9-1319-472a-bdbc-11cea7fe81bb",
   "metadata": {},
   "outputs": [
    {
     "data": {
      "text/plain": [
       "5"
      ]
     },
     "execution_count": 16,
     "metadata": {},
     "output_type": "execute_result"
    }
   ],
   "source": [
    "s"
   ]
  },
  {
   "cell_type": "code",
   "execution_count": 17,
   "id": "28b77951-4dee-455a-9880-358e6a610436",
   "metadata": {},
   "outputs": [],
   "source": [
    "# Let's declare a vector like [5 -2 4]\n",
    "# note there are round brkts for thr np.array mtd, and square brkt for the vector itself. \n",
    "\n",
    "v = np.array([5, -2, 4])\n"
   ]
  },
  {
   "cell_type": "code",
   "execution_count": 18,
   "id": "bf690ebc-7c93-42d2-afae-3f56fa20e354",
   "metadata": {},
   "outputs": [
    {
     "data": {
      "text/plain": [
       "array([ 5, -2,  4])"
      ]
     },
     "execution_count": 18,
     "metadata": {},
     "output_type": "execute_result"
    }
   ],
   "source": [
    "# By default, v is a row vector\n",
    "v"
   ]
  },
  {
   "cell_type": "markdown",
   "id": "9f7c2a91-435c-4b4c-878e-0cc025e5aff1",
   "metadata": {},
   "source": [
    "#### Matrix"
   ]
  },
  {
   "cell_type": "code",
   "execution_count": 19,
   "id": "1a7037c2-03fa-4cbe-8132-21da8c1edf9c",
   "metadata": {},
   "outputs": [],
   "source": [
    "# This matrix contains 2 vectors\n",
    "\n",
    "m = np.array([[5,12,6],[-3,0,14]])"
   ]
  },
  {
   "cell_type": "code",
   "execution_count": 20,
   "id": "dfffbb41-1f94-4cf7-9edf-3c8322f787eb",
   "metadata": {},
   "outputs": [
    {
     "data": {
      "text/plain": [
       "array([[ 5, 12,  6],\n",
       "       [-3,  0, 14]])"
      ]
     },
     "execution_count": 20,
     "metadata": {},
     "output_type": "execute_result"
    }
   ],
   "source": [
    "m"
   ]
  },
  {
   "cell_type": "markdown",
   "id": "711dc5d2-fb5e-43ba-a46b-acd4e6efd90a",
   "metadata": {},
   "source": [
    "#### Data Types"
   ]
  },
  {
   "cell_type": "markdown",
   "id": "2e806e03-ee49-4715-90b4-0e08da5624cd",
   "metadata": {},
   "source": [
    "type(a) returns the data type of a given variable"
   ]
  },
  {
   "cell_type": "code",
   "execution_count": 21,
   "id": "f7dca5de-727c-473c-9014-0d4a4114e6da",
   "metadata": {},
   "outputs": [
    {
     "data": {
      "text/plain": [
       "int"
      ]
     },
     "execution_count": 21,
     "metadata": {},
     "output_type": "execute_result"
    }
   ],
   "source": [
    "type(s)"
   ]
  },
  {
   "cell_type": "code",
   "execution_count": 22,
   "id": "c45ede46-5e7c-45f1-8082-0f56a36c2f13",
   "metadata": {},
   "outputs": [
    {
     "data": {
      "text/plain": [
       "numpy.ndarray"
      ]
     },
     "execution_count": 22,
     "metadata": {},
     "output_type": "execute_result"
    }
   ],
   "source": [
    "type(v)"
   ]
  },
  {
   "cell_type": "code",
   "execution_count": 24,
   "id": "c11def64-cef1-4dba-8926-634953de1b96",
   "metadata": {},
   "outputs": [
    {
     "data": {
      "text/plain": [
       "numpy.ndarray"
      ]
     },
     "execution_count": 24,
     "metadata": {},
     "output_type": "execute_result"
    }
   ],
   "source": [
    "type(m)"
   ]
  },
  {
   "cell_type": "code",
   "execution_count": null,
   "id": "dd975015-e3f5-4fd0-a67e-710c2608a5b5",
   "metadata": {},
   "outputs": [],
   "source": [
    "# n-dimensional array\n",
    "# v is a 1-dimensional array\n",
    "# m is a 2-dimensional array\n",
    "# for s to be consistent with the others, we can declare it a s an array"
   ]
  },
  {
   "cell_type": "code",
   "execution_count": 25,
   "id": "17ff3c7d-898c-4203-98d2-a86fe83f52c6",
   "metadata": {},
   "outputs": [
    {
     "data": {
      "text/plain": [
       "array(5)"
      ]
     },
     "execution_count": 25,
     "metadata": {},
     "output_type": "execute_result"
    }
   ],
   "source": [
    "s_array = np.array(5)\n",
    "s_array"
   ]
  },
  {
   "cell_type": "code",
   "execution_count": 26,
   "id": "bd79258e-e208-41d7-9575-3b38892fc834",
   "metadata": {},
   "outputs": [
    {
     "data": {
      "text/plain": [
       "numpy.ndarray"
      ]
     },
     "execution_count": 26,
     "metadata": {},
     "output_type": "execute_result"
    }
   ],
   "source": [
    "type(s_array)"
   ]
  },
  {
   "cell_type": "markdown",
   "id": "75d3c336-a311-4f5f-b7c6-f5d8edf554a6",
   "metadata": {},
   "source": [
    "#### Data Shapes"
   ]
  },
  {
   "cell_type": "markdown",
   "id": "849d1f79-d469-48d0-a865-ea048c9b498c",
   "metadata": {},
   "source": [
    "For all practical purposes, in Python and within numpy, integers or floats and arrays with 1 element, behave in the same way regarding linear algebraic operations.  \n",
    "\n",
    "shape returns the shape (dimensions) of a variable."
   ]
  },
  {
   "cell_type": "code",
   "execution_count": 27,
   "id": "435d2020-4c78-40ed-b705-7193c91d1137",
   "metadata": {},
   "outputs": [
    {
     "data": {
      "text/plain": [
       "(2, 3)"
      ]
     },
     "execution_count": 27,
     "metadata": {},
     "output_type": "execute_result"
    }
   ],
   "source": [
    "m.shape"
   ]
  },
  {
   "cell_type": "code",
   "execution_count": 28,
   "id": "49f8dcca-8a51-4c3c-87ac-a1c27ce5c923",
   "metadata": {},
   "outputs": [
    {
     "data": {
      "text/plain": [
       "(3,)"
      ]
     },
     "execution_count": 28,
     "metadata": {},
     "output_type": "execute_result"
    }
   ],
   "source": [
    "# The output 3, indicates that v has 3 elements stored in order.\n",
    "\n",
    "v.shape"
   ]
  },
  {
   "cell_type": "markdown",
   "id": "3beebccd-4dd6-4b86-98e8-09185c3ae6e9",
   "metadata": {},
   "source": [
    "#### Creating a column vector"
   ]
  },
  {
   "cell_type": "markdown",
   "id": "b73ea173-00ec-4af1-a4fe-307e3d2f0e21",
   "metadata": {},
   "source": [
    "reshape gives an array a new shape, without changing its data. We can use the reshape mtd to create a row or a column vector."
   ]
  },
  {
   "cell_type": "code",
   "execution_count": 29,
   "id": "c312b0fa-7686-4c27-b546-0c23d8519fa6",
   "metadata": {},
   "outputs": [
    {
     "data": {
      "text/plain": [
       "array([[ 5, -2,  4]])"
      ]
     },
     "execution_count": 29,
     "metadata": {},
     "output_type": "execute_result"
    }
   ],
   "source": [
    "v.reshape(1,3)"
   ]
  },
  {
   "cell_type": "code",
   "execution_count": 30,
   "id": "739907c7-b1fe-4ef2-a45c-05c3616e35f4",
   "metadata": {},
   "outputs": [
    {
     "data": {
      "text/plain": [
       "array([[ 5],\n",
       "       [-2],\n",
       "       [ 4]])"
      ]
     },
     "execution_count": 30,
     "metadata": {},
     "output_type": "execute_result"
    }
   ],
   "source": [
    "v.reshape(3,1)"
   ]
  },
  {
   "cell_type": "code",
   "execution_count": 31,
   "id": "fc8d0daf-b078-4936-9bea-d31007c3669a",
   "metadata": {},
   "outputs": [
    {
     "ename": "AttributeError",
     "evalue": "'int' object has no attribute 'shape'",
     "output_type": "error",
     "traceback": [
      "\u001b[1;31m---------------------------------------------------------------------------\u001b[0m",
      "\u001b[1;31mAttributeError\u001b[0m                            Traceback (most recent call last)",
      "Input \u001b[1;32mIn [31]\u001b[0m, in \u001b[0;36m<cell line: 3>\u001b[1;34m()\u001b[0m\n\u001b[0;32m      1\u001b[0m \u001b[38;5;66;03m# We can check the shape of s. It'll return an error as int objects don't have shape.\u001b[39;00m\n\u001b[1;32m----> 3\u001b[0m \u001b[43ms\u001b[49m\u001b[38;5;241;43m.\u001b[39;49m\u001b[43mshape\u001b[49m\n",
      "\u001b[1;31mAttributeError\u001b[0m: 'int' object has no attribute 'shape'"
     ]
    }
   ],
   "source": [
    "# We can check the shape of s. It'll return an error as int objects don't have shape.\n",
    "\n",
    "s.shape"
   ]
  },
  {
   "cell_type": "code",
   "execution_count": 32,
   "id": "2406998a-d400-4db1-9418-aac4d36a3977",
   "metadata": {},
   "outputs": [
    {
     "data": {
      "text/plain": [
       "()"
      ]
     },
     "execution_count": 32,
     "metadata": {},
     "output_type": "execute_result"
    }
   ],
   "source": [
    "# Trying the same mtd on s_array, we simply have parenthesis bcos a scalar is a zero dimensional object, thus it has no shape.\n",
    "\n",
    "s_array.shape"
   ]
  },
  {
   "cell_type": "code",
   "execution_count": null,
   "id": "9a2dde80-2b5a-48ca-9370-bc8cccdb69bc",
   "metadata": {},
   "outputs": [],
   "source": []
  },
  {
   "cell_type": "markdown",
   "id": "9196ea05-f92e-4f7a-a164-a93641550cb3",
   "metadata": {},
   "source": [
    "#### What is a Tensor?"
   ]
  },
  {
   "cell_type": "markdown",
   "id": "7fef5f5f-1156-4d17-b8ee-3645da06f45f",
   "metadata": {},
   "source": [
    "Tensorflow is developed by google  to work with tensors. The mathematical concept of a tensor is explained thus;\n",
    "A scalar has the lowest dimensionanility and is always 1 by 1.[15]. It can be thought of as a vectorof length 1 or a 1 by 1 matrix. It is followed by a vector and each element of the vector is a scalar.[x1, x2......xm]. The dimensions of a vector is nothing but 1*1 ie m x 1 or 1 x m matrices.\n",
    "\n",
    "Then we have matrices which are nothing but a collection of vectors. The dimesions of a matrix are m x n. In other words, a matrix is a collection of m vectors of dimensions m x 1 or m vectors of dimensions m x 1. Since scalars make up vector, you can also think of a matrix as a collection of scalars too. \n",
    "\n",
    "A tensor is the most general concept. Scalars, vectors and matrices are all tensors of rank 0, 1 and 2 respectively. Tensors are simply a generalisation of the concepts we have seen so far. An object we haven't seen is a tensor of rank 3. Its dimensions are k x m x n. It can be thought of as a collection of matrices. In terms of programming, a tensor is no difft than an ndarray. Innfact, tensors can be stored in ndarrays, and that's how we often deal with issue.\n",
    "\n",
    "Let's create a tensor out of 2 matrices;\n",
    "Our 1st matrix m1 will be from the 1st e.g. m2 will be difft with the elements 9 8 7 and 1 3 -5. Then we create an array T with 2 elements m1 and m2. After printing T, we realise it contains both matrices. \n"
   ]
  },
  {
   "cell_type": "markdown",
   "id": "39fe6aa3-750e-4adf-a975-7769afa99ed3",
   "metadata": {},
   "source": [
    "#### Import the relevant libraries"
   ]
  },
  {
   "cell_type": "code",
   "execution_count": 2,
   "id": "177143a4-9908-4df5-bffd-aa392e32f684",
   "metadata": {},
   "outputs": [],
   "source": [
    "import numpy as np"
   ]
  },
  {
   "cell_type": "markdown",
   "id": "e44063cc-1d6f-492a-a32c-009dc8c21b2a",
   "metadata": {},
   "source": [
    "#### Creating a tensor"
   ]
  },
  {
   "cell_type": "code",
   "execution_count": 3,
   "id": "ace1f164-7463-411e-94aa-fe74288247b0",
   "metadata": {},
   "outputs": [
    {
     "data": {
      "text/plain": [
       "array([[ 5, 12,  6],\n",
       "       [-3,  0, 14]])"
      ]
     },
     "execution_count": 3,
     "metadata": {},
     "output_type": "execute_result"
    }
   ],
   "source": [
    "m1 = np.array([[5,12,6],[-3,0,14]])\n",
    "m1"
   ]
  },
  {
   "cell_type": "code",
   "execution_count": 4,
   "id": "6497a9f6-7ce0-4a0a-891d-b8a9eec9d603",
   "metadata": {},
   "outputs": [
    {
     "data": {
      "text/plain": [
       "array([[ 9,  8,  7],\n",
       "       [ 1,  3, -5]])"
      ]
     },
     "execution_count": 4,
     "metadata": {},
     "output_type": "execute_result"
    }
   ],
   "source": [
    "m2 = np.array([[9,8,7],[1,3,-5]])\n",
    "m2"
   ]
  },
  {
   "cell_type": "code",
   "execution_count": 5,
   "id": "0d75c99e-eb26-4258-a731-393c59befa02",
   "metadata": {},
   "outputs": [],
   "source": [
    "t = np.array([m1,m2])"
   ]
  },
  {
   "cell_type": "code",
   "execution_count": 6,
   "id": "3380b457-5afe-40ed-be87-b275eba60829",
   "metadata": {},
   "outputs": [
    {
     "data": {
      "text/plain": [
       "array([[[ 5, 12,  6],\n",
       "        [-3,  0, 14]],\n",
       "\n",
       "       [[ 9,  8,  7],\n",
       "        [ 1,  3, -5]]])"
      ]
     },
     "execution_count": 6,
     "metadata": {},
     "output_type": "execute_result"
    }
   ],
   "source": [
    "t"
   ]
  },
  {
   "cell_type": "markdown",
   "id": "da386c9d-1de5-46f2-813a-3aa51c346f8c",
   "metadata": {},
   "source": [
    "#### Checking its Shape"
   ]
  },
  {
   "cell_type": "code",
   "execution_count": 7,
   "id": "cc25cb6b-4dac-49f7-8e7e-2039b4120370",
   "metadata": {},
   "outputs": [
    {
     "data": {
      "text/plain": [
       "(2, 2, 3)"
      ]
     },
     "execution_count": 7,
     "metadata": {},
     "output_type": "execute_result"
    }
   ],
   "source": [
    "t.shape"
   ]
  },
  {
   "cell_type": "markdown",
   "id": "03ae4132-40be-4563-b510-63bef398e2a3",
   "metadata": {},
   "source": [
    "#### Manually Creating a Tensor"
   ]
  },
  {
   "cell_type": "code",
   "execution_count": 8,
   "id": "2bf6e5dd-3c80-4334-8fd7-f808c477e8c2",
   "metadata": {},
   "outputs": [],
   "source": [
    "t_manual = np.array([[[ 5, 12, 6], [-3, 0, 14]], [[ 9, 8, 7], [1, 3, 5]]])"
   ]
  },
  {
   "cell_type": "code",
   "execution_count": 9,
   "id": "a554b1c4-0fe9-4b53-ab63-6aaa74e16c67",
   "metadata": {},
   "outputs": [
    {
     "data": {
      "text/plain": [
       "array([[[ 5, 12,  6],\n",
       "        [-3,  0, 14]],\n",
       "\n",
       "       [[ 9,  8,  7],\n",
       "        [ 1,  3,  5]]])"
      ]
     },
     "execution_count": 9,
     "metadata": {},
     "output_type": "execute_result"
    }
   ],
   "source": [
    "t_manual"
   ]
  },
  {
   "cell_type": "code",
   "execution_count": null,
   "id": "10aa95df-e2c0-4dea-bee9-29d0d91c48b3",
   "metadata": {},
   "outputs": [],
   "source": []
  },
  {
   "cell_type": "markdown",
   "id": "156cf0fb-744c-42cb-98fb-4465e44c33d1",
   "metadata": {},
   "source": [
    "### Adding and Subtraction"
   ]
  },
  {
   "cell_type": "markdown",
   "id": "b8396329-0ab2-4626-8ae0-38df3a7180d0",
   "metadata": {},
   "source": [
    "We can add or subtract matrices.\n",
    "\n",
    "ADDITION:\n",
    "\n",
    "This an easy operation. There's only one condition. The 2 matrices must have the same dimensions.\n",
    "Say we have the 2 matrices;\n",
    "m1 = [5 12 6\n",
    "      -3 0 14]  \n",
    "      and\n",
    "m2 = [9 8 7\n",
    "      1 3 -5]\n",
    "      \n",
    "As you can see, they are both 2 x 3 matrices. If I want to add the 2, I'll add the corresponding entries one with the other. The result is a new 2 x 3 matrix.\n",
    "\n",
    "M1 + M2 = X\n",
    "\n"
   ]
  },
  {
   "cell_type": "code",
   "execution_count": null,
   "id": "8315aa47-23c9-4ff1-8b5b-0eaf991fa356",
   "metadata": {},
   "outputs": [],
   "source": [
    "[ 5 12 6 + [ 9 8 7   = [5+9  12+8  6+7   = [14 20 13\n",
    " -3 0 14]    1 3 -5]   -3++1  0+3  14-5]    -2 3 9]"
   ]
  },
  {
   "cell_type": "code",
   "execution_count": null,
   "id": "bcb2f375-efb6-4c91-8f71-a9a06074af13",
   "metadata": {},
   "outputs": [],
   "source": [
    "# For the elements at position 1, we have 5+9, at position 12, we have 12+8, at 13, we have 6+7 etc."
   ]
  },
  {
   "cell_type": "markdown",
   "id": "ec785200-57fb-494d-93b2-a07434b1dd31",
   "metadata": {},
   "source": [
    "If I want to add the matrices in Python, I will use the plus sign."
   ]
  },
  {
   "cell_type": "markdown",
   "id": "3c8b553b-5413-447f-bf59-f3d2a0a23885",
   "metadata": {},
   "source": [
    "#### Import the relevant libraries"
   ]
  },
  {
   "cell_type": "code",
   "execution_count": 4,
   "id": "0d54262d-6266-47a8-a8e8-7fb23f7c2d77",
   "metadata": {},
   "outputs": [],
   "source": [
    "import numpy as np"
   ]
  },
  {
   "cell_type": "markdown",
   "id": "f79a3a7a-8013-41ab-be27-3ad21b55fbc8",
   "metadata": {},
   "source": [
    "##### Addition"
   ]
  },
  {
   "cell_type": "code",
   "execution_count": 5,
   "id": "9f748d1b-85d7-4b2e-b9d8-503e26702f7e",
   "metadata": {},
   "outputs": [
    {
     "data": {
      "text/plain": [
       "array([[ 5, 12,  6],\n",
       "       [-3,  0, 14]])"
      ]
     },
     "execution_count": 5,
     "metadata": {},
     "output_type": "execute_result"
    }
   ],
   "source": [
    "m1 = np.array([[5,12,6],[-3,0,14]])\n",
    "m1"
   ]
  },
  {
   "cell_type": "code",
   "execution_count": 6,
   "id": "6ba63774-2029-4d36-b39d-85d30d6b67d1",
   "metadata": {},
   "outputs": [
    {
     "data": {
      "text/plain": [
       "array([[ 9,  8,  7],\n",
       "       [ 1,  3, -5]])"
      ]
     },
     "execution_count": 6,
     "metadata": {},
     "output_type": "execute_result"
    }
   ],
   "source": [
    "m2 = np.array([[9,8,7],[1,3,-5]])\n",
    "m2"
   ]
  },
  {
   "cell_type": "code",
   "execution_count": 7,
   "id": "c899b87b-1783-4c47-a101-ee73ffd2fbbd",
   "metadata": {},
   "outputs": [
    {
     "data": {
      "text/plain": [
       "array([[14, 20, 13],\n",
       "       [-2,  3,  9]])"
      ]
     },
     "execution_count": 7,
     "metadata": {},
     "output_type": "execute_result"
    }
   ],
   "source": [
    "m1 + m2"
   ]
  },
  {
   "cell_type": "markdown",
   "id": "9bf6b12c-0d59-4507-b24e-9f7edce25760",
   "metadata": {},
   "source": [
    "#### Subtraction"
   ]
  },
  {
   "cell_type": "code",
   "execution_count": 8,
   "id": "245e9717-bb2e-4422-b40c-5da19e5913f2",
   "metadata": {},
   "outputs": [
    {
     "ename": "SyntaxError",
     "evalue": "invalid syntax (3595305287.py, line 1)",
     "output_type": "error",
     "traceback": [
      "\u001b[1;36m  Input \u001b[1;32mIn [8]\u001b[1;36m\u001b[0m\n\u001b[1;33m    Subtraction is a type of addition, so the same rule applies there.\u001b[0m\n\u001b[1;37m                     ^\u001b[0m\n\u001b[1;31mSyntaxError\u001b[0m\u001b[1;31m:\u001b[0m invalid syntax\n"
     ]
    }
   ],
   "source": [
    "Subtraction is a type of addition, so the same rule applies there.\n",
    "\n",
    "The 2 matrices have the same dimensions, 2 x 2."
   ]
  },
  {
   "cell_type": "code",
   "execution_count": 9,
   "id": "9caa6c27-9771-4985-9536-5b7a896f00ba",
   "metadata": {},
   "outputs": [
    {
     "ename": "SyntaxError",
     "evalue": "invalid syntax (3181134123.py, line 1)",
     "output_type": "error",
     "traceback": [
      "\u001b[1;36m  Input \u001b[1;32mIn [9]\u001b[1;36m\u001b[0m\n\u001b[1;33m    [5 3   - [7 -5  = [5-7 3+5   = [-2 8\u001b[0m\n\u001b[1;37m       ^\u001b[0m\n\u001b[1;31mSyntaxError\u001b[0m\u001b[1;31m:\u001b[0m invalid syntax\n"
     ]
    }
   ],
   "source": [
    "[5 3   - [7 -5  = [5-7 3+5   = [-2 8\n",
    " -2 4]    3 8]     -2-3 4-8]    -5 -4]"
   ]
  },
  {
   "cell_type": "markdown",
   "id": "8f6e035c-5866-499b-aa71-ca0975da76dd",
   "metadata": {},
   "source": [
    "For coding, we declare the 2 matrices and find the difference."
   ]
  },
  {
   "cell_type": "markdown",
   "id": "ca23e01e-c76a-4b68-a49e-a902c01fc875",
   "metadata": {},
   "source": [
    "#### Difference"
   ]
  },
  {
   "cell_type": "code",
   "execution_count": 10,
   "id": "23565c37-789d-43fe-8e86-ebd04e65d6d7",
   "metadata": {},
   "outputs": [],
   "source": [
    "m3 = np.array([[5,3],[-2,4]])\n",
    "m4 = np.array([[7,-5],[3,8]])"
   ]
  },
  {
   "cell_type": "code",
   "execution_count": 11,
   "id": "2da8e7a2-daf2-42fe-b030-1097a6854552",
   "metadata": {},
   "outputs": [
    {
     "data": {
      "text/plain": [
       "array([[ 5,  3],\n",
       "       [-2,  4]])"
      ]
     },
     "execution_count": 11,
     "metadata": {},
     "output_type": "execute_result"
    }
   ],
   "source": [
    "m3"
   ]
  },
  {
   "cell_type": "code",
   "execution_count": 12,
   "id": "5bcc4995-0a53-4eca-a526-80efd24328c4",
   "metadata": {},
   "outputs": [
    {
     "data": {
      "text/plain": [
       "array([[ 7, -5],\n",
       "       [ 3,  8]])"
      ]
     },
     "execution_count": 12,
     "metadata": {},
     "output_type": "execute_result"
    }
   ],
   "source": [
    "m4"
   ]
  },
  {
   "cell_type": "code",
   "execution_count": 13,
   "id": "2412134f-bed7-4ce3-955b-73fc2db1bbe4",
   "metadata": {},
   "outputs": [
    {
     "data": {
      "text/plain": [
       "array([[-2,  8],\n",
       "       [-5, -4]])"
      ]
     },
     "execution_count": 13,
     "metadata": {},
     "output_type": "execute_result"
    }
   ],
   "source": [
    "m3 - m4"
   ]
  },
  {
   "cell_type": "markdown",
   "id": "b90181bb-cd55-4b74-ad2b-190d866d316b",
   "metadata": {},
   "source": [
    "We can do the same with float as well. The 2 matrices are both 3x2 so they are compatible."
   ]
  },
  {
   "cell_type": "code",
   "execution_count": 14,
   "id": "c4ea278a-5c4e-4f48-8a08-072ce6beca24",
   "metadata": {},
   "outputs": [
    {
     "ename": "SyntaxError",
     "evalue": "invalid syntax (2788413219.py, line 1)",
     "output_type": "error",
     "traceback": [
      "\u001b[1;36m  Input \u001b[1;32mIn [14]\u001b[1;36m\u001b[0m\n\u001b[1;33m    [22.33 -4.73       [131.13 448.29    [-108.8 -453.02\u001b[0m\n\u001b[1;37m                               ^\u001b[0m\n\u001b[1;31mSyntaxError\u001b[0m\u001b[1;31m:\u001b[0m invalid syntax\n"
     ]
    }
   ],
   "source": [
    "[22.33 -4.73       [131.13 448.29    [-108.8 -453.02\n",
    " -203.14 1200.02 -  -340.21 1.06   =  137.07 1198.06\n",
    " 4.22 234.10]       30.41 424.99]     -26.19 -190.89]"
   ]
  },
  {
   "cell_type": "code",
   "execution_count": 15,
   "id": "33791cbd-322e-426e-81f3-5be1916ed99b",
   "metadata": {},
   "outputs": [
    {
     "data": {
      "text/plain": [
       "array([[  22.33,   -4.73],\n",
       "       [-203.14, 1200.02],\n",
       "       [   4.22,  234.1 ]])"
      ]
     },
     "execution_count": 15,
     "metadata": {},
     "output_type": "execute_result"
    }
   ],
   "source": [
    "m5 = np.array([[22.33,-4.73],[-203.14,1200.02],[4.22, 234.10]])\n",
    "m5"
   ]
  },
  {
   "cell_type": "code",
   "execution_count": 16,
   "id": "0c923e64-8fb0-411e-ba52-f52676a22d90",
   "metadata": {},
   "outputs": [
    {
     "data": {
      "text/plain": [
       "array([[ 131.13,  448.29],\n",
       "       [-340.21,    1.06],\n",
       "       [  30.41,  424.99]])"
      ]
     },
     "execution_count": 16,
     "metadata": {},
     "output_type": "execute_result"
    }
   ],
   "source": [
    "m6 = np.array([[131.13,448.29],[-340.21,1.06],[30.41,424.99]])\n",
    "m6"
   ]
  },
  {
   "cell_type": "code",
   "execution_count": 17,
   "id": "8f8270a6-dfa1-4a5c-8a73-bd48219d9881",
   "metadata": {},
   "outputs": [
    {
     "data": {
      "text/plain": [
       "array([[-108.8 , -453.02],\n",
       "       [ 137.07, 1198.96],\n",
       "       [ -26.19, -190.89]])"
      ]
     },
     "execution_count": 17,
     "metadata": {},
     "output_type": "execute_result"
    }
   ],
   "source": [
    "m5 - m6"
   ]
  },
  {
   "cell_type": "markdown",
   "id": "89bbf9f9-6bc9-448a-9dec-ddd9382606fe",
   "metadata": {},
   "source": [
    "#### Subtraction of Vectors"
   ]
  },
  {
   "cell_type": "markdown",
   "id": "ce42cf24-a4ae-4a94-92ab-cf05cd465bbe",
   "metadata": {},
   "source": [
    "Since vectors are 1 dimensional matrices, same rules apply. With vectors, we only care about the length. One way to add them up is; 1st element with 1st element, 2nd with 2nd etc. The result is a vector of length 5 where all entries are 6s."
   ]
  },
  {
   "cell_type": "markdown",
   "id": "6209ee85-42a7-44c0-a369-668ef26a9cf2",
   "metadata": {},
   "source": [
    "#### Adding Vectors together"
   ]
  },
  {
   "cell_type": "code",
   "execution_count": 18,
   "id": "d758659b-e3c7-41c3-b556-d7c67e8e29d1",
   "metadata": {},
   "outputs": [],
   "source": [
    "v1 = np.array([1,2,3,4,5])\n",
    "v2 = np.array([5,4,3,2,1])"
   ]
  },
  {
   "cell_type": "code",
   "execution_count": 19,
   "id": "fe716884-8abb-472a-b99a-9e0037187b54",
   "metadata": {},
   "outputs": [
    {
     "data": {
      "text/plain": [
       "array([6, 6, 6, 6, 6])"
      ]
     },
     "execution_count": 19,
     "metadata": {},
     "output_type": "execute_result"
    }
   ],
   "source": [
    "v1 + v2"
   ]
  },
  {
   "cell_type": "code",
   "execution_count": 20,
   "id": "f7b4f4a5-87c0-4043-8143-9008f215f07b",
   "metadata": {},
   "outputs": [
    {
     "data": {
      "text/plain": [
       "array([-4, -2,  0,  2,  4])"
      ]
     },
     "execution_count": 20,
     "metadata": {},
     "output_type": "execute_result"
    }
   ],
   "source": [
    "v1 - v2"
   ]
  },
  {
   "cell_type": "code",
   "execution_count": null,
   "id": "03ec781b-9cf2-4927-9d0c-b85c4106526b",
   "metadata": {},
   "outputs": [],
   "source": []
  },
  {
   "cell_type": "markdown",
   "id": "5c6faa4e-3398-4b57-8de7-861b8213f8e6",
   "metadata": {},
   "source": [
    "#### Errors When Adding Matrices"
   ]
  },
  {
   "cell_type": "code",
   "execution_count": 21,
   "id": "ef96532b-c118-43b6-ba8f-ac9178699971",
   "metadata": {},
   "outputs": [
    {
     "ename": "SyntaxError",
     "evalue": "invalid syntax (1864841930.py, line 1)",
     "output_type": "error",
     "traceback": [
      "\u001b[1;36m  Input \u001b[1;32mIn [21]\u001b[1;36m\u001b[0m\n\u001b[1;33m    Scalars are more peculiar than higher dimension objects bcos they are single numbers.\u001b[0m\n\u001b[1;37m            ^\u001b[0m\n\u001b[1;31mSyntaxError\u001b[0m\u001b[1;31m:\u001b[0m invalid syntax\n"
     ]
    }
   ],
   "source": [
    "Scalars are more peculiar than higher dimension objects bcos they are single numbers.\n",
    "To add scalars we have;"
   ]
  },
  {
   "cell_type": "markdown",
   "id": "4262e34b-ad63-4fe4-b452-2026f16fb0b2",
   "metadata": {},
   "source": [
    "#### Import relevant libraries"
   ]
  },
  {
   "cell_type": "code",
   "execution_count": 22,
   "id": "695ef392-1156-46e3-8669-0329edee5817",
   "metadata": {},
   "outputs": [],
   "source": [
    "import numpy as np"
   ]
  },
  {
   "cell_type": "markdown",
   "id": "82086879-08e0-4fa3-b204-75e24769d200",
   "metadata": {},
   "source": [
    "#### Addition"
   ]
  },
  {
   "cell_type": "markdown",
   "id": "38e25b5d-5b31-4139-91d3-d9758aaaa7a2",
   "metadata": {},
   "source": [
    "##### Addition of Scalars"
   ]
  },
  {
   "cell_type": "code",
   "execution_count": 23,
   "id": "6e7dd595-40ee-439f-bb0d-c09e3808d1b2",
   "metadata": {},
   "outputs": [
    {
     "data": {
      "text/plain": [
       "10"
      ]
     },
     "execution_count": 23,
     "metadata": {},
     "output_type": "execute_result"
    }
   ],
   "source": [
    "5 + 5"
   ]
  },
  {
   "cell_type": "code",
   "execution_count": 24,
   "id": "171f24e6-ae31-4769-b637-de8ade324321",
   "metadata": {},
   "outputs": [
    {
     "data": {
      "text/plain": [
       "6"
      ]
     },
     "execution_count": 24,
     "metadata": {},
     "output_type": "execute_result"
    }
   ],
   "source": [
    "10 - 4"
   ]
  },
  {
   "cell_type": "markdown",
   "id": "fbc93527-e94d-4b42-8052-5ebf2629be7e",
   "metadata": {},
   "source": [
    "##### Addition of matrices"
   ]
  },
  {
   "cell_type": "markdown",
   "id": "2a632e06-7783-4324-b3db-5e4fb8c90abf",
   "metadata": {},
   "source": [
    "To add vectors and matrices together, the forms must match. we can't add vector of difft lines and matrices with difft dimensions. Such operations are not permitted in linear algebra and python knows that. E.g add a 2x2 matrix with a 2x3 matrix will return an error."
   ]
  },
  {
   "cell_type": "code",
   "execution_count": 25,
   "id": "add1f07e-2ec8-4962-9b6f-4ca91ffeec46",
   "metadata": {},
   "outputs": [
    {
     "ename": "ValueError",
     "evalue": "operands could not be broadcast together with shapes (2,3) (2,2) ",
     "output_type": "error",
     "traceback": [
      "\u001b[1;31m---------------------------------------------------------------------------\u001b[0m",
      "\u001b[1;31mValueError\u001b[0m                                Traceback (most recent call last)",
      "Input \u001b[1;32mIn [25]\u001b[0m, in \u001b[0;36m<cell line: 1>\u001b[1;34m()\u001b[0m\n\u001b[1;32m----> 1\u001b[0m \u001b[43mm1\u001b[49m\u001b[43m \u001b[49m\u001b[38;5;241;43m+\u001b[39;49m\u001b[43m \u001b[49m\u001b[43mm3\u001b[49m\n",
      "\u001b[1;31mValueError\u001b[0m: operands could not be broadcast together with shapes (2,3) (2,2) "
     ]
    }
   ],
   "source": [
    "m1 + m3"
   ]
  },
  {
   "cell_type": "markdown",
   "id": "8c43e4ae-fcc8-456e-93de-68a5713a761d",
   "metadata": {},
   "source": [
    "##### Addition of vectors"
   ]
  },
  {
   "cell_type": "markdown",
   "id": "49fcea58-a08a-4be7-809b-a10966857e26",
   "metadata": {},
   "source": [
    "To add 2 vectors with difft lines, we get the same error."
   ]
  },
  {
   "cell_type": "code",
   "execution_count": 26,
   "id": "0f17c538-c5d8-44c5-a708-4b8290100709",
   "metadata": {},
   "outputs": [
    {
     "data": {
      "text/plain": [
       "array([1, 2, 3, 4, 5])"
      ]
     },
     "execution_count": 26,
     "metadata": {},
     "output_type": "execute_result"
    }
   ],
   "source": [
    "v1 = np.array([1,2,3,4,5])\n",
    "v1"
   ]
  },
  {
   "cell_type": "code",
   "execution_count": 28,
   "id": "a66e8e8d-4611-4deb-ac25-ce8c34fab45a",
   "metadata": {},
   "outputs": [
    {
     "data": {
      "text/plain": [
       "array([1, 2, 3])"
      ]
     },
     "execution_count": 28,
     "metadata": {},
     "output_type": "execute_result"
    }
   ],
   "source": [
    "v3 = np.array([1,2,3])\n",
    "v3"
   ]
  },
  {
   "cell_type": "code",
   "execution_count": 29,
   "id": "6d2b67d0-35fe-4a47-9380-cd64205c2baa",
   "metadata": {},
   "outputs": [
    {
     "ename": "ValueError",
     "evalue": "operands could not be broadcast together with shapes (5,) (3,) ",
     "output_type": "error",
     "traceback": [
      "\u001b[1;31m---------------------------------------------------------------------------\u001b[0m",
      "\u001b[1;31mValueError\u001b[0m                                Traceback (most recent call last)",
      "Input \u001b[1;32mIn [29]\u001b[0m, in \u001b[0;36m<cell line: 1>\u001b[1;34m()\u001b[0m\n\u001b[1;32m----> 1\u001b[0m \u001b[43mv1\u001b[49m\u001b[43m \u001b[49m\u001b[38;5;241;43m+\u001b[39;49m\u001b[43m \u001b[49m\u001b[43mv3\u001b[49m\n",
      "\u001b[1;31mValueError\u001b[0m: operands could not be broadcast together with shapes (5,) (3,) "
     ]
    }
   ],
   "source": [
    "# Mathematically, these operations don't make sense, so they can't be executed.\n",
    "\n",
    "v1 + v3"
   ]
  },
  {
   "cell_type": "markdown",
   "id": "79a21664-a9ff-4219-8574-47564fc43829",
   "metadata": {},
   "source": [
    "##### Exceptions (addition with a scalar)"
   ]
  },
  {
   "cell_type": "markdown",
   "id": "0d12e0bf-ac87-48a7-b667-5708c933bf6a",
   "metadata": {},
   "source": [
    "Because of how arrays work in Python and many other languages, we can add scalars to matrices and vectors. If you add 1 to matrix m1, each element in the matrix will increase by 1."
   ]
  },
  {
   "cell_type": "code",
   "execution_count": 30,
   "id": "c419ba01-56b8-4582-a584-90a584bd28d1",
   "metadata": {},
   "outputs": [
    {
     "data": {
      "text/plain": [
       "array([[ 5, 12,  6],\n",
       "       [-3,  0, 14]])"
      ]
     },
     "execution_count": 30,
     "metadata": {},
     "output_type": "execute_result"
    }
   ],
   "source": [
    "m1"
   ]
  },
  {
   "cell_type": "code",
   "execution_count": 31,
   "id": "f49cb9cd-4a7b-49c7-a9f9-dc53f7bcb4a8",
   "metadata": {},
   "outputs": [
    {
     "data": {
      "text/plain": [
       "array([[ 6, 13,  7],\n",
       "       [-2,  1, 15]])"
      ]
     },
     "execution_count": 31,
     "metadata": {},
     "output_type": "execute_result"
    }
   ],
   "source": [
    "m1 + 1"
   ]
  },
  {
   "cell_type": "code",
   "execution_count": 32,
   "id": "38653e66-cf67-4f79-bad8-03d5316860ea",
   "metadata": {},
   "outputs": [
    {
     "data": {
      "text/plain": [
       "array([1, 2, 3, 4, 5])"
      ]
     },
     "execution_count": 32,
     "metadata": {},
     "output_type": "execute_result"
    }
   ],
   "source": [
    "# Similarly, if you add 1 to the vector v1, it will be added elementwise.\n",
    "\n",
    "v1"
   ]
  },
  {
   "cell_type": "code",
   "execution_count": 33,
   "id": "477b13a6-0d77-480e-a784-6a12fc271d88",
   "metadata": {},
   "outputs": [
    {
     "data": {
      "text/plain": [
       "array([2, 3, 4, 5, 6])"
      ]
     },
     "execution_count": 33,
     "metadata": {},
     "output_type": "execute_result"
    }
   ],
   "source": [
    "v1 + 1"
   ]
  },
  {
   "cell_type": "code",
   "execution_count": 34,
   "id": "aeb4cdab-24ad-4f0a-93ae-4418c9bd19b5",
   "metadata": {},
   "outputs": [
    {
     "data": {
      "text/plain": [
       "array([[ 6, 13,  7],\n",
       "       [-2,  1, 15]])"
      ]
     },
     "execution_count": 34,
     "metadata": {},
     "output_type": "execute_result"
    }
   ],
   "source": [
    "# mathematically this operation is not allowed as the shapes are difft.But in programming or at least in Python, it works.\n",
    "# The result has a meaning in terms of arrays, but not in terms of linear algebra.\n",
    "# That is also the diff btw the concepts of nd.array and tensors.\n",
    "\n",
    "m1 + np.array([1])"
   ]
  },
  {
   "cell_type": "code",
   "execution_count": 35,
   "id": "a211e44b-a6aa-42af-abf2-6feb425bee31",
   "metadata": {},
   "outputs": [
    {
     "data": {
      "text/plain": [
       "array([2, 3, 4, 5, 6])"
      ]
     },
     "execution_count": 35,
     "metadata": {},
     "output_type": "execute_result"
    }
   ],
   "source": [
    "v1 + np.array([1])"
   ]
  },
  {
   "cell_type": "code",
   "execution_count": null,
   "id": "40169e34-253b-4b9a-9c60-28629cf14801",
   "metadata": {},
   "outputs": [],
   "source": []
  },
  {
   "cell_type": "markdown",
   "id": "cbfa39cf-b8f9-411b-a329-6c94995af08c",
   "metadata": {},
   "source": [
    "### Transpose of a Matrix"
   ]
  },
  {
   "cell_type": "markdown",
   "id": "5a99ee16-ba7c-4b73-a42b-617e131e32b9",
   "metadata": {},
   "source": [
    "##### Transposing Vectors"
   ]
  },
  {
   "cell_type": "markdown",
   "id": "b165060a-1bbd-4b14-8c58-ac22f6c9683f",
   "metadata": {},
   "source": [
    "We already know that vectors are either rows or columns. So let x be the column vector [123]. There's a special operation that can turn it into a row vector. We can transpose it. Transposing the column vector 123 will result in a row vector 123. We denote this operation with a letter T as a superscript. X^T. D4, [1\n",
    "                       2\n",
    "                       3] T  = [123] and vice versa.\n",
    "If we transpose X 2ce, we get X.    \n",
    "\n",
    "1.When we transpose a vector, we are not losing any information. The values are not changing or transforming; only their position is.\n",
    "\n",
    "2.Transposing the same vector(object) twice, yields the initial vector(object).\n",
    "\n",
    "3.A 3x1 matrix transposed is a 1x3 matrix."
   ]
  },
  {
   "cell_type": "markdown",
   "id": "74158ccd-8594-4443-a9a0-f294fbf5ec25",
   "metadata": {},
   "source": [
    "##### Transposing Matrices"
   ]
  },
  {
   "cell_type": "markdown",
   "id": "753ac55c-c96c-460c-8551-60f7edd2386d",
   "metadata": {},
   "source": [
    "In terms of dimensions, when transposed, and mxn matrix becomes and nxm matrix."
   ]
  },
  {
   "cell_type": "code",
   "execution_count": null,
   "id": "7825dff5-3682-431d-8b64-1d86e9848217",
   "metadata": {},
   "outputs": [],
   "source": [
    "A = [5 12 6\n",
    "    -3 0 14]  A^T = [5-3\n",
    "                     12 0\n",
    "                     6 14]\n",
    "# A is a 2x3 matrix, A transposed is a 3x2 matrix. Transposing matrices is transposing a bunch of vectors.\n",
    "\n",
    "        "
   ]
  },
  {
   "cell_type": "markdown",
   "id": "244c1f31-3675-4fc5-b822-2a0412cb2e84",
   "metadata": {},
   "source": [
    "##### Import the relevant libraries"
   ]
  },
  {
   "cell_type": "code",
   "execution_count": null,
   "id": "f5adcf69-f92b-4871-8ea3-13015b3f6582",
   "metadata": {},
   "outputs": [],
   "source": [
    "import numpy as np"
   ]
  },
  {
   "cell_type": "markdown",
   "id": "1f99d217-be7c-4726-8992-0e6a7a801a82",
   "metadata": {},
   "source": [
    "##### Transposing matrices\n",
    "\n",
    "array.T returns the transpose of an array (matrix)"
   ]
  },
  {
   "cell_type": "code",
   "execution_count": 36,
   "id": "32c953bf-5bc6-47e4-8c86-07aad274854c",
   "metadata": {},
   "outputs": [
    {
     "data": {
      "text/plain": [
       "array([[ 5, 12,  6],\n",
       "       [-3,  0, 14]])"
      ]
     },
     "execution_count": 36,
     "metadata": {},
     "output_type": "execute_result"
    }
   ],
   "source": [
    "A = np.array([[5, 12, 6],[-3,0,14]])\n",
    "A"
   ]
  },
  {
   "cell_type": "code",
   "execution_count": 37,
   "id": "a1afe2f1-b6aa-4180-8294-b91810e9ed93",
   "metadata": {},
   "outputs": [
    {
     "data": {
      "text/plain": [
       "array([[ 5, -3],\n",
       "       [12,  0],\n",
       "       [ 6, 14]])"
      ]
     },
     "execution_count": 37,
     "metadata": {},
     "output_type": "execute_result"
    }
   ],
   "source": [
    "A.T"
   ]
  },
  {
   "cell_type": "code",
   "execution_count": 38,
   "id": "5e080d8a-1667-42b9-a704-2d211754c3aa",
   "metadata": {},
   "outputs": [
    {
     "data": {
      "text/plain": [
       "array([[ 5,  3],\n",
       "       [-2,  4]])"
      ]
     },
     "execution_count": 38,
     "metadata": {},
     "output_type": "execute_result"
    }
   ],
   "source": [
    "B = np.array([[5,3],[-2,4]])\n",
    "B"
   ]
  },
  {
   "cell_type": "code",
   "execution_count": 39,
   "id": "c5227857-a96d-4f7d-b4ca-ee931a9450e5",
   "metadata": {},
   "outputs": [
    {
     "data": {
      "text/plain": [
       "array([[ 4, -5],\n",
       "       [ 8, 12],\n",
       "       [-2, -3],\n",
       "       [19,  0]])"
      ]
     },
     "execution_count": 39,
     "metadata": {},
     "output_type": "execute_result"
    }
   ],
   "source": [
    "C = np.array([[4,-5],[8,12],[-2,-3],[19,0]])\n",
    "C"
   ]
  },
  {
   "cell_type": "code",
   "execution_count": 40,
   "id": "dedfb0e4-5fb3-45c3-b4c3-b27502ae4e8e",
   "metadata": {},
   "outputs": [
    {
     "data": {
      "text/plain": [
       "array([[ 4,  8, -2, 19],\n",
       "       [-5, 12, -3,  0]])"
      ]
     },
     "execution_count": 40,
     "metadata": {},
     "output_type": "execute_result"
    }
   ],
   "source": [
    "C.T"
   ]
  },
  {
   "cell_type": "markdown",
   "id": "83b0dd2d-4124-495f-b55c-78653c91f2b4",
   "metadata": {},
   "source": [
    "##### Transposing Scalars"
   ]
  },
  {
   "cell_type": "code",
   "execution_count": 41,
   "id": "70223ffc-eceb-43f4-8849-4314987ed17f",
   "metadata": {},
   "outputs": [],
   "source": [
    "# Any scalar when transposed equals itself.\n",
    "\n",
    "S = np.array([5])"
   ]
  },
  {
   "cell_type": "code",
   "execution_count": 42,
   "id": "3004e634-adb5-4789-b1bf-19f8b3875374",
   "metadata": {},
   "outputs": [
    {
     "data": {
      "text/plain": [
       "array([5])"
      ]
     },
     "execution_count": 42,
     "metadata": {},
     "output_type": "execute_result"
    }
   ],
   "source": [
    "S.T"
   ]
  },
  {
   "cell_type": "markdown",
   "id": "5a79c4e0-83f6-4db6-b56e-fc802157e645",
   "metadata": {},
   "source": [
    "##### Transposing Vectors"
   ]
  },
  {
   "cell_type": "code",
   "execution_count": 43,
   "id": "4cd0ec38-e77e-478d-8273-3ff0efebf0c3",
   "metadata": {},
   "outputs": [
    {
     "data": {
      "text/plain": [
       "array([1, 2, 3])"
      ]
     },
     "execution_count": 43,
     "metadata": {},
     "output_type": "execute_result"
    }
   ],
   "source": [
    "# In python, 1 dimensional arrays don't get transposed.\n",
    "\n",
    "X = np.array([1,2,3])\n",
    "X"
   ]
  },
  {
   "cell_type": "code",
   "execution_count": 44,
   "id": "04b051b8-e1e8-4b30-86b9-ee8930a12d1f",
   "metadata": {},
   "outputs": [
    {
     "data": {
      "text/plain": [
       "array([1, 2, 3])"
      ]
     },
     "execution_count": 44,
     "metadata": {},
     "output_type": "execute_result"
    }
   ],
   "source": [
    "X.T"
   ]
  },
  {
   "cell_type": "code",
   "execution_count": 45,
   "id": "a93b6243-4a75-4957-97a1-2e45f28bbfe7",
   "metadata": {},
   "outputs": [
    {
     "data": {
      "text/plain": [
       "(3,)"
      ]
     },
     "execution_count": 45,
     "metadata": {},
     "output_type": "execute_result"
    }
   ],
   "source": [
    "X.shape"
   ]
  },
  {
   "cell_type": "code",
   "execution_count": 46,
   "id": "fb2aa5d4-7115-44c5-aef5-9622cc8a3b1d",
   "metadata": {},
   "outputs": [
    {
     "data": {
      "text/plain": [
       "array([[1, 2, 3]])"
      ]
     },
     "execution_count": 46,
     "metadata": {},
     "output_type": "execute_result"
    }
   ],
   "source": [
    "X_reshaped = X.reshape(1,3)\n",
    "X_reshaped"
   ]
  },
  {
   "cell_type": "code",
   "execution_count": 47,
   "id": "b60ab0ae-142c-4c9a-a2ab-534458ba43c2",
   "metadata": {},
   "outputs": [
    {
     "data": {
      "text/plain": [
       "array([[1],\n",
       "       [2],\n",
       "       [3]])"
      ]
     },
     "execution_count": 47,
     "metadata": {},
     "output_type": "execute_result"
    }
   ],
   "source": [
    "X_reshaped.T"
   ]
  },
  {
   "cell_type": "code",
   "execution_count": null,
   "id": "52bfc4d3-f4d0-47f2-a193-5cdee5287e95",
   "metadata": {},
   "outputs": [],
   "source": []
  },
  {
   "cell_type": "markdown",
   "id": "d816b7bd-bf1b-497f-b014-7c4c44c620bf",
   "metadata": {},
   "source": [
    "#### Dot Product"
   ]
  },
  {
   "cell_type": "markdown",
   "id": "60b79b5d-47ee-475a-b25c-6111539b7a05",
   "metadata": {},
   "source": [
    "##### Scalar Multipliction"
   ]
  },
  {
   "cell_type": "code",
   "execution_count": null,
   "id": "6ed0da61-652b-4a41-8297-aaa36951e07e",
   "metadata": {},
   "outputs": [],
   "source": [
    "[6].[5] = [30]\n",
    "\n",
    "[10].[-2] = [-20]"
   ]
  },
  {
   "cell_type": "markdown",
   "id": "c2eb9e4a-e280-43d7-956b-40d54bb35ec9",
   "metadata": {},
   "source": [
    "To multiply vectors, they must be compatible or have the same length."
   ]
  },
  {
   "cell_type": "markdown",
   "id": "08bad388-a45d-41f4-8598-04a8656781a1",
   "metadata": {},
   "source": [
    "[2 8 -4] x [1 -7 3] We can get 2 products; 1. Dot or inner product or Tensor or outer product. Here, we won't be needing the outer product. you can read it up. The dot product is heavily used for multipliation of vectors and matrices. Other names for the dot product are inner or scalar products. We multiply each 2 corresponding elements and find the sum."
   ]
  },
  {
   "cell_type": "code",
   "execution_count": null,
   "id": "7aebe30b-6d0b-4114-a4c0-8ab56d37f0e5",
   "metadata": {},
   "outputs": [],
   "source": [
    "[2     [1\n",
    "8   .   -7  = [2x1+8x(-7)+(-4)x3] = [-66]\n",
    "-4]     3]\n",
    "\n",
    "# As you can see, we multiplied 2 vectors and got a scalar. That's why the dot product is also known as scalar product.\n",
    "# The dot product is the sum of the products of the corresponding elements"
   ]
  },
  {
   "cell_type": "markdown",
   "id": "6c4af8f4-bce4-45ab-9635-5cd1e440a282",
   "metadata": {},
   "source": [
    "##### import the relevant libraries"
   ]
  },
  {
   "cell_type": "code",
   "execution_count": null,
   "id": "a353fa6f-cb07-4dc7-a22b-7b31324d58b3",
   "metadata": {},
   "outputs": [],
   "source": [
    "import numpy as np"
   ]
  },
  {
   "cell_type": "markdown",
   "id": "6fdfbd3e-80da-4d58-a477-1b009cb263ee",
   "metadata": {},
   "source": [
    "##### Dot product"
   ]
  },
  {
   "cell_type": "code",
   "execution_count": 48,
   "id": "0bfbe77f-59e7-47b0-b619-cbd340efbd5f",
   "metadata": {},
   "outputs": [],
   "source": [
    "x = np.array([2,8,-4])\n",
    "y = np.array([1,-7,3])"
   ]
  },
  {
   "cell_type": "code",
   "execution_count": 49,
   "id": "7206d1ae-9174-456d-ab1b-b3091307e8d9",
   "metadata": {},
   "outputs": [
    {
     "data": {
      "text/plain": [
       "-66"
      ]
     },
     "execution_count": 49,
     "metadata": {},
     "output_type": "execute_result"
    }
   ],
   "source": [
    "np.dot(x,y)"
   ]
  },
  {
   "cell_type": "code",
   "execution_count": 51,
   "id": "172ad572-5f5f-49cf-92d5-f26f890b3d4d",
   "metadata": {},
   "outputs": [],
   "source": [
    "u = np.array([0,2,5,8])\n",
    "v = np.array([20,3,4,-1])"
   ]
  },
  {
   "cell_type": "code",
   "execution_count": 52,
   "id": "49f81444-1974-4ada-a939-7bc50ff3e842",
   "metadata": {},
   "outputs": [
    {
     "data": {
      "text/plain": [
       "18"
      ]
     },
     "execution_count": 52,
     "metadata": {},
     "output_type": "execute_result"
    }
   ],
   "source": [
    "np.dot(u,v)"
   ]
  },
  {
   "cell_type": "markdown",
   "id": "519a3588-5f98-421b-93f3-60170504d5f2",
   "metadata": {},
   "source": [
    "##### Scalar x Scalar"
   ]
  },
  {
   "cell_type": "code",
   "execution_count": 53,
   "id": "23585656-8f90-43f4-b23a-c51573a66722",
   "metadata": {},
   "outputs": [
    {
     "data": {
      "text/plain": [
       "30"
      ]
     },
     "execution_count": 53,
     "metadata": {},
     "output_type": "execute_result"
    }
   ],
   "source": [
    "np.dot(5,6)"
   ]
  },
  {
   "cell_type": "code",
   "execution_count": 54,
   "id": "6f7898ba-cae7-437e-bfd2-09c554996467",
   "metadata": {},
   "outputs": [
    {
     "data": {
      "text/plain": [
       "-20"
      ]
     },
     "execution_count": 54,
     "metadata": {},
     "output_type": "execute_result"
    }
   ],
   "source": [
    "np.dot(10,-2)"
   ]
  },
  {
   "cell_type": "markdown",
   "id": "c967132f-39b2-47f1-8e4c-29a7071b0dc5",
   "metadata": {},
   "source": [
    "##### Scalar x Vector"
   ]
  },
  {
   "cell_type": "markdown",
   "id": "2a0a982b-0dd3-4960-b861-af9bdb231004",
   "metadata": {},
   "source": [
    "When we multiply a vector with a scalar, we get a vector with the same length.\n",
    "Multiplication by a scalar does'nt change the shape, but only the scale of the values."
   ]
  },
  {
   "cell_type": "code",
   "execution_count": 55,
   "id": "7b6ee933-8993-45c6-a8db-43fc718dab85",
   "metadata": {},
   "outputs": [
    {
     "data": {
      "text/plain": [
       "array([ 2,  8, -4])"
      ]
     },
     "execution_count": 55,
     "metadata": {},
     "output_type": "execute_result"
    }
   ],
   "source": [
    "x"
   ]
  },
  {
   "cell_type": "code",
   "execution_count": 56,
   "id": "e4ea655d-97b6-4b9a-bc10-354fef40e38b",
   "metadata": {},
   "outputs": [
    {
     "data": {
      "text/plain": [
       "array([ 10,  40, -20])"
      ]
     },
     "execution_count": 56,
     "metadata": {},
     "output_type": "execute_result"
    }
   ],
   "source": [
    "5*x"
   ]
  },
  {
   "cell_type": "code",
   "execution_count": null,
   "id": "48a5153e-e1f8-4887-86c6-3b3c67424c8d",
   "metadata": {},
   "outputs": [],
   "source": []
  },
  {
   "cell_type": "markdown",
   "id": "dbffd97f-9790-435d-9e0f-f9a67346f221",
   "metadata": {},
   "source": [
    "### Dot Product of Matrices"
   ]
  },
  {
   "cell_type": "markdown",
   "id": "ddb45475-625f-434b-a33b-d0823eaae11d",
   "metadata": {},
   "source": [
    "##### Scalar x Matrix"
   ]
  },
  {
   "cell_type": "code",
   "execution_count": 57,
   "id": "966e5fba-10bb-41ab-8ae8-6c00f2b03e4c",
   "metadata": {},
   "outputs": [
    {
     "data": {
      "text/plain": [
       "array([[ 5, 12,  6],\n",
       "       [-3,  0, 14]])"
      ]
     },
     "execution_count": 57,
     "metadata": {},
     "output_type": "execute_result"
    }
   ],
   "source": [
    "A = np.array([[5,12,6],[-3,0,14]])\n",
    "A"
   ]
  },
  {
   "cell_type": "code",
   "execution_count": 58,
   "id": "fa48da24-f8b7-4d08-8fb4-ecd6a957cdef",
   "metadata": {},
   "outputs": [
    {
     "data": {
      "text/plain": [
       "array([[15, 36, 18],\n",
       "       [-9,  0, 42]])"
      ]
     },
     "execution_count": 58,
     "metadata": {},
     "output_type": "execute_result"
    }
   ],
   "source": [
    "# The shape of a matrix does'nt change, it just gets scaled.\n",
    "\n",
    "3*A"
   ]
  },
  {
   "cell_type": "markdown",
   "id": "a10f0456-3f09-45bc-be1d-9bbf2b2a4f10",
   "metadata": {},
   "source": [
    "We can multiply 2 matrices. But only multiply an m x n matrix with an n x k dimension matrix. The 2nd dimension of the 1st matrix must match the 1st dimension of the 2nd matrix. So we can multiply a 2x3 matrix with a 3x1,2,3....k matrix. As long as the 3s are matching. Similarly, to multiply a 5x7 matrix, compatible matrices for multiplication are; 7x1,2,7....k. For the dimensions of the product itself, we are multiplying an m x n matrix by an n x k matrix, the output is an m x k matrix. For instance, a 2 x 3 . 3 x 6 matrix = 2 x 6 ie A . B = c and  a 3x4 . 4x2 = 3x2 ie A.B = C and a 100x300 . 100x3 = 300x3 ie A . B = C.\n",
    "How then do we multiply matrices? Let's start with 2 matrices;\n",
    "                                                                \n",
    "                                                             "
   ]
  },
  {
   "cell_type": "code",
   "execution_count": null,
   "id": "0160a8c0-bd2e-43ca-9e51-1b0950d1fe89",
   "metadata": {},
   "outputs": [],
   "source": [
    "[2     [1\n",
    " 8      -7  = [-66]\n",
    "-4]     3]\n",
    "\n",
    "# For compatibility: they need to have matching forms.\n",
    "# To find the dot product, we tranpose the 1st and get a 1x3 matrix of [2 8 -4] x the 3x1 matrix.\n",
    "# When we have a dot product, we always multiply a row vector times a column vector. The result is a 1x1 form or scalar.\n",
    "# We reach the scalar by multiplying the corresponding element and summing everything up."
   ]
  },
  {
   "cell_type": "code",
   "execution_count": null,
   "id": "db239c9f-fa8a-4780-9d5e-2995e1582585",
   "metadata": {},
   "outputs": [],
   "source": [
    "[5 12 6   .  [2 -1   [ 5x2+ 12x8 + 6x3       [124 -5\n",
    " -3 0 14]     8 0   = 5x-1 + 12x0 + 6x0    = 36 3]\n",
    "              3 0]    -3x2 + 0x8 + 14x3\n",
    "2x3           3x2      -3x-1 + 0x0 + 14x0]    2x2\n",
    "\n",
    "1, Check the compatibility( the forms are matching)\n",
    "2. Find the shape of the output matrix. The matching dimension disappears, so the resulting shape is 2x2.\n",
    "-Matices are nothing more than a collection of vectors. \n",
    "- When we have a dot product, we always multiply a row vector times a column vector.\n",
    "-Note that the row vectors determine the row, column vectors determine the column.\n",
    "- Compatibility: they need to have matching forms."
   ]
  },
  {
   "cell_type": "markdown",
   "id": "b799e556-1e3a-4c65-86e2-edd2676e6551",
   "metadata": {},
   "source": [
    "##### Scalar * Matrix"
   ]
  },
  {
   "cell_type": "code",
   "execution_count": 3,
   "id": "771a3eda-39a4-44e7-b31b-d5590262b02f",
   "metadata": {},
   "outputs": [
    {
     "data": {
      "text/plain": [
       "array([[ 5, 12,  6],\n",
       "       [-3,  0, 14]])"
      ]
     },
     "execution_count": 3,
     "metadata": {},
     "output_type": "execute_result"
    }
   ],
   "source": [
    "import numpy as np\n",
    "\n",
    "A = np.array([[5,12,6],[-3,0,14]])\n",
    "A"
   ]
  },
  {
   "cell_type": "code",
   "execution_count": 4,
   "id": "45479f3c-8164-469b-99cd-cdca0dc3cdb2",
   "metadata": {},
   "outputs": [
    {
     "data": {
      "text/plain": [
       "array([[15, 36, 18],\n",
       "       [-9,  0, 42]])"
      ]
     },
     "execution_count": 4,
     "metadata": {},
     "output_type": "execute_result"
    }
   ],
   "source": [
    "3*A"
   ]
  },
  {
   "cell_type": "markdown",
   "id": "29004773-99f1-4bf4-8a55-c435dd254242",
   "metadata": {},
   "source": [
    "##### Matrix * Matrix"
   ]
  },
  {
   "cell_type": "code",
   "execution_count": 5,
   "id": "0dd6ae2f-59a6-46b1-8e7a-aad3188d9c29",
   "metadata": {},
   "outputs": [
    {
     "data": {
      "text/plain": [
       "array([[ 2, -1],\n",
       "       [ 8,  0],\n",
       "       [ 3,  0]])"
      ]
     },
     "execution_count": 5,
     "metadata": {},
     "output_type": "execute_result"
    }
   ],
   "source": [
    "B = np.array([[2,-1],[8,0],[3,0]])\n",
    "B"
   ]
  },
  {
   "cell_type": "code",
   "execution_count": 6,
   "id": "7d758d3f-fd7b-4066-8d6e-b5b751ca2bf2",
   "metadata": {},
   "outputs": [
    {
     "data": {
      "text/plain": [
       "array([[124,  -5],\n",
       "       [ 36,   3]])"
      ]
     },
     "execution_count": 6,
     "metadata": {},
     "output_type": "execute_result"
    }
   ],
   "source": [
    "np.dot(A,B)"
   ]
  },
  {
   "cell_type": "code",
   "execution_count": null,
   "id": "2e57818f-a188-4fee-81dd-855e2d439e70",
   "metadata": {},
   "outputs": [],
   "source": [
    "# E.g 2\n",
    "\n",
    "4x5 . 5x2 = 4x2  #compatible\n",
    "\n",
    "3x4 . 2x3 = x # not compatible"
   ]
  },
  {
   "cell_type": "code",
   "execution_count": null,
   "id": "6e6ebaeb-20d8-40ef-bbf9-add7206ff560",
   "metadata": {},
   "outputs": [],
   "source": []
  },
  {
   "cell_type": "markdown",
   "id": "91b80625-f09e-4269-b2a4-584db7eca9a7",
   "metadata": {},
   "source": [
    "### Why is Linear Algebra Useful"
   ]
  },
  {
   "cell_type": "markdown",
   "id": "b61c64a1-74a0-4a88-b527-a59cda19f0ad",
   "metadata": {},
   "source": [
    "We've seen a lot of Matrix operation so far. Why then is LA useful?\n",
    "There are many applications of LA. There are sevearl ones of high importance in Data science.\n",
    "We'll explore 3 mtds in this lesson;\n",
    "\n",
    "1.Vectorised code\n",
    "2.Image recognition\n",
    "3.Dimensionality reduction"
   ]
  },
  {
   "cell_type": "markdown",
   "id": "e6faae8b-1409-4757-b187-bad01ab9994e",
   "metadata": {},
   "source": [
    "#### Vectorised Code"
   ]
  },
  {
   "cell_type": "markdown",
   "id": "a5942668-3486-4bef-a526-5b40996bea75",
   "metadata": {},
   "source": [
    "Whenever we are using linear algebra to compute many values simultaneously,we call this Array programming or Vectorising code. It is much more faster.\n",
    "We can reduce manual calculation of large data by creating a loop or using matrix operations. It contains inputs, weights coefficients and outputs. Numpy is optimised for performing this kind of operations, which greatly increases the computational efficiency of our code.\n",
    "\n",
    "E.g\n",
    "We can claim that the price of a house depends on its size. Let's take the eqn;\n",
    "Price = 10,190 + 223 * house size\n",
    "Suppose we have house sizes of 693,656,1060,487,1275 for 5 houses.\n",
    "Plug in each size in the eqn and find the price of each house.\n",
    "Calculating manually we have\n",
    "10,190+223+693 = 164729 up to the 5th house.\n",
    "\n",
    "Suppose we have 100 and above houses, it'll be quite tedious to calculate. To deal with that problem, we create a loop. We can iterate over the sizes, multiplying each of them by 223 + 10,190 ie\n",
    "for i in range (100):\n",
    "print (10,190 + 223 * size[i])\n",
    "\n",
    "We will use a smarter option - Linear algebra.\n",
    "A 5x2 matrix and a vector of length 2x1. The matrix contains a column of 1s and another with the house sizes. The vector contains the numbers from the eqn 10,190 and 223.\n",
    "\n",
    "Whenever we're using linear algebra to compute many values simultaneously, we call this ARRAY PROGRAMMING or VECTORISING CODE."
   ]
  },
  {
   "cell_type": "code",
   "execution_count": null,
   "id": "a86f8580-85a5-4b21-bf0b-c0fd197da64d",
   "metadata": {},
   "outputs": [],
   "source": [
    "[1  693     [10190     [1*10,190 + 693*223      [164729\n",
    " 1  656  .    223]   =  1*10,190 + 223*656       156478\n",
    " 1  1060                1*10,190 + 223*1060   =  246570\n",
    " 1  487                 1*10,190 + 223*487       118791\n",
    " 1  1275]               1*10,190 + 223*1275]     294515]\n",
    "     5x2       2x1         5x1                    5x1\n",
    "    \n",
    "    Input                  weights or coefficient   outputs\n",
    "    \n",
    "# No matter the number of inputs, we'll get as many outputs. The eqn does'nt change as it \n",
    "# contains only the 2 coefficients; 10,190 and 223.\n",
    "# This concepts tiurns very helpful in our machine learning."
   ]
  },
  {
   "cell_type": "code",
   "execution_count": null,
   "id": "f4cbc9b0-d908-433b-b271-b41e50ca3a46",
   "metadata": {},
   "outputs": [],
   "source": []
  },
  {
   "cell_type": "markdown",
   "id": "d0a409c3-3437-499f-9047-f63f7a2293bd",
   "metadata": {},
   "source": [
    "#### Image Recognition"
   ]
  },
  {
   "cell_type": "markdown",
   "id": "ee583a6f-8e75-42b0-a544-0d73a623af1c",
   "metadata": {},
   "source": [
    "In the last few years, deep learning and deep neural networks conquered image recognition. On the forefront is the CNNS (convolutional neural networks). The basic idea is; you can take a photo, feed it to the algorithm and classify it. \n",
    "E.g\n",
    "\n",
    "1.the MNIST dataset where the task is to classify hand written digits.\n",
    "2.CIFER 10 where the task is to classify animals and vehicles.\n",
    "3.CIFER 100 where you have 100 difft classes of images.\n",
    "\n",
    "The problem is that we can't just take a photo and give it to the computer, we must design a way to turn that photo into numbers in other to communicate the image to the computer.\n",
    "\n",
    "Here's where LA comes in;\n",
    "Each photo has some dimensions, say this photo is 400x400 pixels, each pixel is a coloured square. Enough pixels and Zoom options make our brain see these squres as an image rather than a collection of squares."
   ]
  },
  {
   "cell_type": "code",
   "execution_count": null,
   "id": "498dbbff-6b2d-4343-bd56-a67ce39c90e4",
   "metadata": {},
   "outputs": [],
   "source": []
  },
  {
   "cell_type": "markdown",
   "id": "cdf4b7e0-f83e-499f-8db2-e0a46de03a39",
   "metadata": {},
   "source": [
    "#### Dimesionality Reduction"
   ]
  },
  {
   "cell_type": "markdown",
   "id": "c699a375-311d-4213-9a04-c3e0bae3028b",
   "metadata": {},
   "source": [
    "Since we haven't seen Eigenvalues and Eigenvectors yet, let's develop some intuition.\n",
    "Imagine we have a dataset with 3 variables. LA provides us with fast and efficient ways to transform our initial matrix from mx3 with the 3 variables x y z into a new mx2 matrix where the 2 variables are u&v.\n",
    "How does that relate to the real world?\n",
    "Imagine a survey of 50 qns, 3 of them are the ffg;\n",
    "\n",
    "Please rate from 1 to 5\n",
    "\n",
    "1.I feel comfortable around pple\n",
    "2.I easily make friends\n",
    "3.I like going out\n",
    "\n",
    "These qns may seem difft, but in the general case, they aren't. They all measure your level of extroversion, so it makes sense to combine them.\n",
    "That's where dimensionality reduction techniques and linear Algebra come in. Sometimes we have too many variables that are similar, so we reduce the number of variables to reduce the complexity of the problem."
   ]
  },
  {
   "cell_type": "code",
   "execution_count": 1,
   "id": "0d4f9998-1cbb-44e5-a56d-d587b517651a",
   "metadata": {},
   "outputs": [],
   "source": [
    "import numpy as np"
   ]
  },
  {
   "cell_type": "code",
   "execution_count": 2,
   "id": "46fc3a2c-cadf-4e6c-9910-59a4215f6bd9",
   "metadata": {},
   "outputs": [],
   "source": [
    "A = np.array([[1,-4],[-2,1]])\n",
    "B = np.array([[0,3],[5,8]])"
   ]
  },
  {
   "cell_type": "code",
   "execution_count": 3,
   "id": "d7624d1d-fdc5-47af-8cc3-a1414037786f",
   "metadata": {},
   "outputs": [
    {
     "data": {
      "text/plain": [
       "array([[ 1, -4],\n",
       "       [-2,  1]])"
      ]
     },
     "execution_count": 3,
     "metadata": {},
     "output_type": "execute_result"
    }
   ],
   "source": [
    "A"
   ]
  },
  {
   "cell_type": "code",
   "execution_count": 4,
   "id": "c659f38c-2d8f-448b-baf3-852e63e364a7",
   "metadata": {},
   "outputs": [
    {
     "data": {
      "text/plain": [
       "array([[0, 3],\n",
       "       [5, 8]])"
      ]
     },
     "execution_count": 4,
     "metadata": {},
     "output_type": "execute_result"
    }
   ],
   "source": [
    "B"
   ]
  },
  {
   "cell_type": "code",
   "execution_count": 5,
   "id": "2a42e793-0266-47fd-89e6-0bc9f1fe4bd9",
   "metadata": {},
   "outputs": [
    {
     "data": {
      "text/plain": [
       "array([[ 1, -7],\n",
       "       [-7, -7]])"
      ]
     },
     "execution_count": 5,
     "metadata": {},
     "output_type": "execute_result"
    }
   ],
   "source": [
    "A-B"
   ]
  },
  {
   "cell_type": "code",
   "execution_count": 6,
   "id": "1b651cf3-de37-4dce-b671-47d71a6178dc",
   "metadata": {},
   "outputs": [
    {
     "data": {
      "text/plain": [
       "array([[ 1, -1],\n",
       "       [ 3,  9]])"
      ]
     },
     "execution_count": 6,
     "metadata": {},
     "output_type": "execute_result"
    }
   ],
   "source": [
    "A+B"
   ]
  },
  {
   "cell_type": "code",
   "execution_count": 9,
   "id": "b513728c-ca1c-4d30-8b41-e73f18d22618",
   "metadata": {},
   "outputs": [],
   "source": [
    "x = np.array([8,2,5,1])"
   ]
  },
  {
   "cell_type": "code",
   "execution_count": 10,
   "id": "599d19f8-0828-4c3d-b11e-ef12a7bf0ba9",
   "metadata": {},
   "outputs": [
    {
     "data": {
      "text/plain": [
       "array([8, 2, 5, 1])"
      ]
     },
     "execution_count": 10,
     "metadata": {},
     "output_type": "execute_result"
    }
   ],
   "source": [
    "x"
   ]
  },
  {
   "cell_type": "code",
   "execution_count": 11,
   "id": "a845a0e5-7c8e-47ab-927a-8dfeaaf10c59",
   "metadata": {},
   "outputs": [
    {
     "data": {
      "text/plain": [
       "array([16,  4, 10,  2])"
      ]
     },
     "execution_count": 11,
     "metadata": {},
     "output_type": "execute_result"
    }
   ],
   "source": [
    "x*2"
   ]
  },
  {
   "cell_type": "code",
   "execution_count": 12,
   "id": "63d88a3b-c20a-4f6f-8428-f66154763655",
   "metadata": {},
   "outputs": [
    {
     "data": {
      "text/plain": [
       "array([8, 2, 5, 1])"
      ]
     },
     "execution_count": 12,
     "metadata": {},
     "output_type": "execute_result"
    }
   ],
   "source": [
    "x.T"
   ]
  },
  {
   "cell_type": "code",
   "execution_count": null,
   "id": "8b0a5fe1-4e49-4b80-8ad8-74904d7f115c",
   "metadata": {},
   "outputs": [],
   "source": []
  },
  {
   "cell_type": "code",
   "execution_count": null,
   "id": "ae8cd2d1-37d5-45f0-9962-57bda8683ec1",
   "metadata": {},
   "outputs": [],
   "source": []
  },
  {
   "cell_type": "code",
   "execution_count": null,
   "id": "255bab8d-0c5f-4e16-baa5-4234f6580685",
   "metadata": {},
   "outputs": [],
   "source": []
  },
  {
   "cell_type": "code",
   "execution_count": null,
   "id": "74128ca8-43e7-418a-9945-b8afba99a331",
   "metadata": {},
   "outputs": [],
   "source": []
  },
  {
   "cell_type": "code",
   "execution_count": null,
   "id": "e1e7e2d3-89aa-48b5-b052-1fc4a3b3ee73",
   "metadata": {},
   "outputs": [],
   "source": []
  },
  {
   "cell_type": "code",
   "execution_count": null,
   "id": "b205aede-fa57-4102-bf96-df6992631f99",
   "metadata": {},
   "outputs": [],
   "source": []
  },
  {
   "cell_type": "code",
   "execution_count": null,
   "id": "d5b1813f-0d82-48aa-beac-a6302dda26fb",
   "metadata": {},
   "outputs": [],
   "source": []
  },
  {
   "cell_type": "code",
   "execution_count": null,
   "id": "1c3ba9fd-1ac1-445b-95e3-298bf8cf61b5",
   "metadata": {},
   "outputs": [],
   "source": []
  }
 ],
 "metadata": {
  "kernelspec": {
   "display_name": "Python 3 (ipykernel)",
   "language": "python",
   "name": "python3"
  },
  "language_info": {
   "codemirror_mode": {
    "name": "ipython",
    "version": 3
   },
   "file_extension": ".py",
   "mimetype": "text/x-python",
   "name": "python",
   "nbconvert_exporter": "python",
   "pygments_lexer": "ipython3",
   "version": "3.9.12"
  }
 },
 "nbformat": 4,
 "nbformat_minor": 5
}
